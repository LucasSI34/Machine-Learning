{
 "cells": [
  {
   "cell_type": "markdown",
   "id": "91d20eef",
   "metadata": {},
   "source": [
    "# CLASSIFICAÇÃO ML"
   ]
  },
  {
   "cell_type": "markdown",
   "id": "b85f53eb",
   "metadata": {},
   "source": [
    "### IMPORTAÇÕES DE BIBLIOTECAS"
   ]
  },
  {
   "cell_type": "code",
   "execution_count": 1,
   "id": "07cc32c6",
   "metadata": {},
   "outputs": [],
   "source": [
    "import pandas as pd\n",
    "import numpy as np\n",
    "import seaborn as sns\n",
    "import matplotlib.pyplot as plt\n",
    "\n",
    "from sklearn.metrics import accuracy_score\n",
    "from sklearn.metrics import confusion_matrix\n",
    "from sklearn.metrics import precision_score"
   ]
  },
  {
   "cell_type": "markdown",
   "id": "2ffdaffa",
   "metadata": {},
   "source": [
    "### IMPORTAÇÃO DO DATASET"
   ]
  },
  {
   "cell_type": "code",
   "execution_count": 2,
   "id": "c96d6bd2",
   "metadata": {},
   "outputs": [
    {
     "data": {
      "text/html": [
       "<div>\n",
       "<style scoped>\n",
       "    .dataframe tbody tr th:only-of-type {\n",
       "        vertical-align: middle;\n",
       "    }\n",
       "\n",
       "    .dataframe tbody tr th {\n",
       "        vertical-align: top;\n",
       "    }\n",
       "\n",
       "    .dataframe thead th {\n",
       "        text-align: right;\n",
       "    }\n",
       "</style>\n",
       "<table border=\"1\" class=\"dataframe\">\n",
       "  <thead>\n",
       "    <tr style=\"text-align: right;\">\n",
       "      <th></th>\n",
       "      <th>Maior65Anos</th>\n",
       "      <th>Conjuge</th>\n",
       "      <th>Dependentes</th>\n",
       "      <th>MesesDeContrato</th>\n",
       "      <th>TelefoneFixo</th>\n",
       "      <th>VariasLinhasTelefonicas</th>\n",
       "      <th>ServicoDeInternet</th>\n",
       "      <th>SegurancaOnline</th>\n",
       "      <th>BackupOnline</th>\n",
       "      <th>SeguroNoDispositivo</th>\n",
       "      <th>SuporteTecnico</th>\n",
       "      <th>TVaCabo</th>\n",
       "      <th>StreamingDeFilmes</th>\n",
       "      <th>TipoDeContrato</th>\n",
       "      <th>PagamentoOnline</th>\n",
       "      <th>FormaDePagamento</th>\n",
       "      <th>ContaMensal</th>\n",
       "      <th>Churn</th>\n",
       "    </tr>\n",
       "  </thead>\n",
       "  <tbody>\n",
       "    <tr>\n",
       "      <th>4497</th>\n",
       "      <td>1</td>\n",
       "      <td>Sim</td>\n",
       "      <td>Nao</td>\n",
       "      <td>60</td>\n",
       "      <td>Sim</td>\n",
       "      <td>Nao</td>\n",
       "      <td>FibraOptica</td>\n",
       "      <td>Nao</td>\n",
       "      <td>Sim</td>\n",
       "      <td>Sim</td>\n",
       "      <td>Nao</td>\n",
       "      <td>Sim</td>\n",
       "      <td>Sim</td>\n",
       "      <td>UmAno</td>\n",
       "      <td>Sim</td>\n",
       "      <td>ChequeDigital</td>\n",
       "      <td>97.95</td>\n",
       "      <td>Nao</td>\n",
       "    </tr>\n",
       "    <tr>\n",
       "      <th>440</th>\n",
       "      <td>0</td>\n",
       "      <td>Sim</td>\n",
       "      <td>Sim</td>\n",
       "      <td>16</td>\n",
       "      <td>Sim</td>\n",
       "      <td>Sim</td>\n",
       "      <td>FibraOptica</td>\n",
       "      <td>Sim</td>\n",
       "      <td>Nao</td>\n",
       "      <td>Sim</td>\n",
       "      <td>Sim</td>\n",
       "      <td>Sim</td>\n",
       "      <td>Sim</td>\n",
       "      <td>Mensalmente</td>\n",
       "      <td>Sim</td>\n",
       "      <td>ChequeDigital</td>\n",
       "      <td>112.95</td>\n",
       "      <td>Nao</td>\n",
       "    </tr>\n",
       "    <tr>\n",
       "      <th>6128</th>\n",
       "      <td>0</td>\n",
       "      <td>Sim</td>\n",
       "      <td>Nao</td>\n",
       "      <td>14</td>\n",
       "      <td>Sim</td>\n",
       "      <td>Nao</td>\n",
       "      <td>FibraOptica</td>\n",
       "      <td>Nao</td>\n",
       "      <td>Nao</td>\n",
       "      <td>Nao</td>\n",
       "      <td>Nao</td>\n",
       "      <td>Nao</td>\n",
       "      <td>Sim</td>\n",
       "      <td>Mensalmente</td>\n",
       "      <td>Sim</td>\n",
       "      <td>ChequeDigital</td>\n",
       "      <td>78.10</td>\n",
       "      <td>Nao</td>\n",
       "    </tr>\n",
       "    <tr>\n",
       "      <th>198</th>\n",
       "      <td>0</td>\n",
       "      <td>Sim</td>\n",
       "      <td>Sim</td>\n",
       "      <td>72</td>\n",
       "      <td>Sim</td>\n",
       "      <td>Sim</td>\n",
       "      <td>FibraOptica</td>\n",
       "      <td>Nao</td>\n",
       "      <td>Sim</td>\n",
       "      <td>Sim</td>\n",
       "      <td>Sim</td>\n",
       "      <td>Sim</td>\n",
       "      <td>Sim</td>\n",
       "      <td>DoisAnos</td>\n",
       "      <td>Sim</td>\n",
       "      <td>DebitoEmConta</td>\n",
       "      <td>112.25</td>\n",
       "      <td>Nao</td>\n",
       "    </tr>\n",
       "    <tr>\n",
       "      <th>1817</th>\n",
       "      <td>1</td>\n",
       "      <td>Sim</td>\n",
       "      <td>Nao</td>\n",
       "      <td>72</td>\n",
       "      <td>Sim</td>\n",
       "      <td>Sim</td>\n",
       "      <td>FibraOptica</td>\n",
       "      <td>Nao</td>\n",
       "      <td>Sim</td>\n",
       "      <td>Nao</td>\n",
       "      <td>Nao</td>\n",
       "      <td>Sim</td>\n",
       "      <td>Sim</td>\n",
       "      <td>DoisAnos</td>\n",
       "      <td>Nao</td>\n",
       "      <td>DebitoEmConta</td>\n",
       "      <td>98.35</td>\n",
       "      <td>Nao</td>\n",
       "    </tr>\n",
       "  </tbody>\n",
       "</table>\n",
       "</div>"
      ],
      "text/plain": [
       "      Maior65Anos Conjuge Dependentes  MesesDeContrato TelefoneFixo  \\\n",
       "4497            1     Sim         Nao               60          Sim   \n",
       "440             0     Sim         Sim               16          Sim   \n",
       "6128            0     Sim         Nao               14          Sim   \n",
       "198             0     Sim         Sim               72          Sim   \n",
       "1817            1     Sim         Nao               72          Sim   \n",
       "\n",
       "     VariasLinhasTelefonicas ServicoDeInternet SegurancaOnline BackupOnline  \\\n",
       "4497                     Nao       FibraOptica             Nao          Sim   \n",
       "440                      Sim       FibraOptica             Sim          Nao   \n",
       "6128                     Nao       FibraOptica             Nao          Nao   \n",
       "198                      Sim       FibraOptica             Nao          Sim   \n",
       "1817                     Sim       FibraOptica             Nao          Sim   \n",
       "\n",
       "     SeguroNoDispositivo SuporteTecnico TVaCabo StreamingDeFilmes  \\\n",
       "4497                 Sim            Nao     Sim               Sim   \n",
       "440                  Sim            Sim     Sim               Sim   \n",
       "6128                 Nao            Nao     Nao               Sim   \n",
       "198                  Sim            Sim     Sim               Sim   \n",
       "1817                 Nao            Nao     Sim               Sim   \n",
       "\n",
       "     TipoDeContrato PagamentoOnline FormaDePagamento  ContaMensal Churn  \n",
       "4497          UmAno             Sim    ChequeDigital        97.95   Nao  \n",
       "440     Mensalmente             Sim    ChequeDigital       112.95   Nao  \n",
       "6128    Mensalmente             Sim    ChequeDigital        78.10   Nao  \n",
       "198        DoisAnos             Sim    DebitoEmConta       112.25   Nao  \n",
       "1817       DoisAnos             Nao    DebitoEmConta        98.35   Nao  "
      ]
     },
     "execution_count": 2,
     "metadata": {},
     "output_type": "execute_result"
    }
   ],
   "source": [
    "dados = pd.read_csv(\n",
    "    'https://raw.githubusercontent.com/alura-cursos/ML_Classificacao_por_tras_dos_panos/main/Dados/Customer-Churn.csv'\n",
    ")\n",
    "dados.sample(5)"
   ]
  },
  {
   "cell_type": "markdown",
   "id": "2ac70b1f",
   "metadata": {},
   "source": [
    "obs: Objetivo é identificar o Churn, se o cliente tem ou não chances de encerrar o plano da empresa 'AluraVoz'"
   ]
  },
  {
   "cell_type": "code",
   "execution_count": 3,
   "id": "1a448dd5",
   "metadata": {},
   "outputs": [
    {
     "name": "stdout",
     "output_type": "stream",
     "text": [
      "No dataset temos 7043 Linhas e 18 Colunas\n"
     ]
    }
   ],
   "source": [
    "print(f'No dataset temos {dados.shape[0]} Linhas e {dados.shape[1]} Colunas')"
   ]
  },
  {
   "cell_type": "code",
   "execution_count": 4,
   "id": "1bc3fa60",
   "metadata": {},
   "outputs": [
    {
     "name": "stdout",
     "output_type": "stream",
     "text": [
      "<class 'pandas.core.frame.DataFrame'>\n",
      "RangeIndex: 7043 entries, 0 to 7042\n",
      "Data columns (total 18 columns):\n",
      " #   Column                   Non-Null Count  Dtype  \n",
      "---  ------                   --------------  -----  \n",
      " 0   Maior65Anos              7043 non-null   int64  \n",
      " 1   Conjuge                  7043 non-null   object \n",
      " 2   Dependentes              7043 non-null   object \n",
      " 3   MesesDeContrato          7043 non-null   int64  \n",
      " 4   TelefoneFixo             7043 non-null   object \n",
      " 5   VariasLinhasTelefonicas  7043 non-null   object \n",
      " 6   ServicoDeInternet        7043 non-null   object \n",
      " 7   SegurancaOnline          7043 non-null   object \n",
      " 8   BackupOnline             7043 non-null   object \n",
      " 9   SeguroNoDispositivo      7043 non-null   object \n",
      " 10  SuporteTecnico           7043 non-null   object \n",
      " 11  TVaCabo                  7043 non-null   object \n",
      " 12  StreamingDeFilmes        7043 non-null   object \n",
      " 13  TipoDeContrato           7043 non-null   object \n",
      " 14  PagamentoOnline          7043 non-null   object \n",
      " 15  FormaDePagamento         7043 non-null   object \n",
      " 16  ContaMensal              7043 non-null   float64\n",
      " 17  Churn                    7043 non-null   object \n",
      "dtypes: float64(1), int64(2), object(15)\n",
      "memory usage: 990.5+ KB\n"
     ]
    }
   ],
   "source": [
    "#Verificando os tipos de dados do dataset\n",
    "dados.info()"
   ]
  },
  {
   "cell_type": "code",
   "execution_count": 5,
   "id": "271ea9c3",
   "metadata": {},
   "outputs": [
    {
     "data": {
      "text/plain": [
       "Maior65Anos                0\n",
       "Conjuge                    0\n",
       "Dependentes                0\n",
       "MesesDeContrato            0\n",
       "TelefoneFixo               0\n",
       "VariasLinhasTelefonicas    0\n",
       "ServicoDeInternet          0\n",
       "SegurancaOnline            0\n",
       "BackupOnline               0\n",
       "SeguroNoDispositivo        0\n",
       "SuporteTecnico             0\n",
       "TVaCabo                    0\n",
       "StreamingDeFilmes          0\n",
       "TipoDeContrato             0\n",
       "PagamentoOnline            0\n",
       "FormaDePagamento           0\n",
       "ContaMensal                0\n",
       "Churn                      0\n",
       "dtype: int64"
      ]
     },
     "execution_count": 5,
     "metadata": {},
     "output_type": "execute_result"
    }
   ],
   "source": [
    "#Verificando se há dados nulos\n",
    "dados.isna().sum()"
   ]
  },
  {
   "cell_type": "markdown",
   "id": "e249983c",
   "metadata": {},
   "source": [
    "### TRANSFORMAÇÃO DE DADOS"
   ]
  },
  {
   "cell_type": "code",
   "execution_count": 6,
   "id": "bfca0915",
   "metadata": {},
   "outputs": [
    {
     "data": {
      "text/plain": [
       "Index(['Maior65Anos', 'Conjuge', 'Dependentes', 'MesesDeContrato',\n",
       "       'TelefoneFixo', 'VariasLinhasTelefonicas', 'ServicoDeInternet',\n",
       "       'SegurancaOnline', 'BackupOnline', 'SeguroNoDispositivo',\n",
       "       'SuporteTecnico', 'TVaCabo', 'StreamingDeFilmes', 'TipoDeContrato',\n",
       "       'PagamentoOnline', 'FormaDePagamento', 'ContaMensal', 'Churn'],\n",
       "      dtype='object')"
      ]
     },
     "execution_count": 6,
     "metadata": {},
     "output_type": "execute_result"
    }
   ],
   "source": [
    "dados.columns"
   ]
  },
  {
   "cell_type": "code",
   "execution_count": 7,
   "id": "68a6e00b",
   "metadata": {},
   "outputs": [
    {
     "data": {
      "text/html": [
       "<div>\n",
       "<style scoped>\n",
       "    .dataframe tbody tr th:only-of-type {\n",
       "        vertical-align: middle;\n",
       "    }\n",
       "\n",
       "    .dataframe tbody tr th {\n",
       "        vertical-align: top;\n",
       "    }\n",
       "\n",
       "    .dataframe thead th {\n",
       "        text-align: right;\n",
       "    }\n",
       "</style>\n",
       "<table border=\"1\" class=\"dataframe\">\n",
       "  <thead>\n",
       "    <tr style=\"text-align: right;\">\n",
       "      <th></th>\n",
       "      <th>Conjuge</th>\n",
       "      <th>Dependentes</th>\n",
       "      <th>TelefoneFixo</th>\n",
       "      <th>PagamentoOnline</th>\n",
       "      <th>Churn</th>\n",
       "    </tr>\n",
       "  </thead>\n",
       "  <tbody>\n",
       "    <tr>\n",
       "      <th>1701</th>\n",
       "      <td>1</td>\n",
       "      <td>1</td>\n",
       "      <td>1</td>\n",
       "      <td>1</td>\n",
       "      <td>1</td>\n",
       "    </tr>\n",
       "    <tr>\n",
       "      <th>6782</th>\n",
       "      <td>0</td>\n",
       "      <td>0</td>\n",
       "      <td>1</td>\n",
       "      <td>0</td>\n",
       "      <td>0</td>\n",
       "    </tr>\n",
       "    <tr>\n",
       "      <th>3011</th>\n",
       "      <td>1</td>\n",
       "      <td>1</td>\n",
       "      <td>1</td>\n",
       "      <td>0</td>\n",
       "      <td>0</td>\n",
       "    </tr>\n",
       "    <tr>\n",
       "      <th>1179</th>\n",
       "      <td>1</td>\n",
       "      <td>0</td>\n",
       "      <td>1</td>\n",
       "      <td>1</td>\n",
       "      <td>0</td>\n",
       "    </tr>\n",
       "    <tr>\n",
       "      <th>4643</th>\n",
       "      <td>0</td>\n",
       "      <td>0</td>\n",
       "      <td>1</td>\n",
       "      <td>1</td>\n",
       "      <td>0</td>\n",
       "    </tr>\n",
       "  </tbody>\n",
       "</table>\n",
       "</div>"
      ],
      "text/plain": [
       "      Conjuge  Dependentes  TelefoneFixo  PagamentoOnline  Churn\n",
       "1701        1            1             1                1      1\n",
       "6782        0            0             1                0      0\n",
       "3011        1            1             1                0      0\n",
       "1179        1            0             1                1      0\n",
       "4643        0            0             1                1      0"
      ]
     },
     "execution_count": 7,
     "metadata": {},
     "output_type": "execute_result"
    }
   ],
   "source": [
    "traducao_dic = {'Sim' : 1,\n",
    "                'Nao' : 0}\n",
    "dados_modificados = dados[['Conjuge', 'Dependentes', 'TelefoneFixo', 'PagamentoOnline','Churn']]\\\n",
    "                    .replace(traducao_dic) #Transformando as variáveis categoricas\n",
    "dados_modificados.sample(5)"
   ]
  },
  {
   "cell_type": "code",
   "execution_count": 8,
   "id": "e334df7a",
   "metadata": {},
   "outputs": [
    {
     "data": {
      "text/html": [
       "<div>\n",
       "<style scoped>\n",
       "    .dataframe tbody tr th:only-of-type {\n",
       "        vertical-align: middle;\n",
       "    }\n",
       "\n",
       "    .dataframe tbody tr th {\n",
       "        vertical-align: top;\n",
       "    }\n",
       "\n",
       "    .dataframe thead th {\n",
       "        text-align: right;\n",
       "    }\n",
       "</style>\n",
       "<table border=\"1\" class=\"dataframe\">\n",
       "  <thead>\n",
       "    <tr style=\"text-align: right;\">\n",
       "      <th></th>\n",
       "      <th>Maior65Anos</th>\n",
       "      <th>MesesDeContrato</th>\n",
       "      <th>ContaMensal</th>\n",
       "      <th>VariasLinhasTelefonicas_Nao</th>\n",
       "      <th>VariasLinhasTelefonicas_SemServicoTelefonico</th>\n",
       "      <th>VariasLinhasTelefonicas_Sim</th>\n",
       "      <th>ServicoDeInternet_DSL</th>\n",
       "      <th>ServicoDeInternet_FibraOptica</th>\n",
       "      <th>ServicoDeInternet_Nao</th>\n",
       "      <th>SegurancaOnline_Nao</th>\n",
       "      <th>...</th>\n",
       "      <th>StreamingDeFilmes_Nao</th>\n",
       "      <th>StreamingDeFilmes_SemServicoDeInternet</th>\n",
       "      <th>StreamingDeFilmes_Sim</th>\n",
       "      <th>TipoDeContrato_DoisAnos</th>\n",
       "      <th>TipoDeContrato_Mensalmente</th>\n",
       "      <th>TipoDeContrato_UmAno</th>\n",
       "      <th>FormaDePagamento_CartaoDeCredito</th>\n",
       "      <th>FormaDePagamento_ChequeDigital</th>\n",
       "      <th>FormaDePagamento_ChequePapel</th>\n",
       "      <th>FormaDePagamento_DebitoEmConta</th>\n",
       "    </tr>\n",
       "  </thead>\n",
       "  <tbody>\n",
       "    <tr>\n",
       "      <th>3368</th>\n",
       "      <td>0</td>\n",
       "      <td>46</td>\n",
       "      <td>94.15</td>\n",
       "      <td>0</td>\n",
       "      <td>0</td>\n",
       "      <td>1</td>\n",
       "      <td>0</td>\n",
       "      <td>1</td>\n",
       "      <td>0</td>\n",
       "      <td>1</td>\n",
       "      <td>...</td>\n",
       "      <td>0</td>\n",
       "      <td>0</td>\n",
       "      <td>1</td>\n",
       "      <td>0</td>\n",
       "      <td>0</td>\n",
       "      <td>1</td>\n",
       "      <td>0</td>\n",
       "      <td>1</td>\n",
       "      <td>0</td>\n",
       "      <td>0</td>\n",
       "    </tr>\n",
       "    <tr>\n",
       "      <th>1378</th>\n",
       "      <td>0</td>\n",
       "      <td>58</td>\n",
       "      <td>66.80</td>\n",
       "      <td>0</td>\n",
       "      <td>0</td>\n",
       "      <td>1</td>\n",
       "      <td>1</td>\n",
       "      <td>0</td>\n",
       "      <td>0</td>\n",
       "      <td>1</td>\n",
       "      <td>...</td>\n",
       "      <td>1</td>\n",
       "      <td>0</td>\n",
       "      <td>0</td>\n",
       "      <td>0</td>\n",
       "      <td>1</td>\n",
       "      <td>0</td>\n",
       "      <td>0</td>\n",
       "      <td>0</td>\n",
       "      <td>0</td>\n",
       "      <td>1</td>\n",
       "    </tr>\n",
       "    <tr>\n",
       "      <th>754</th>\n",
       "      <td>0</td>\n",
       "      <td>2</td>\n",
       "      <td>90.35</td>\n",
       "      <td>1</td>\n",
       "      <td>0</td>\n",
       "      <td>0</td>\n",
       "      <td>0</td>\n",
       "      <td>1</td>\n",
       "      <td>0</td>\n",
       "      <td>0</td>\n",
       "      <td>...</td>\n",
       "      <td>1</td>\n",
       "      <td>0</td>\n",
       "      <td>0</td>\n",
       "      <td>0</td>\n",
       "      <td>1</td>\n",
       "      <td>0</td>\n",
       "      <td>0</td>\n",
       "      <td>1</td>\n",
       "      <td>0</td>\n",
       "      <td>0</td>\n",
       "    </tr>\n",
       "    <tr>\n",
       "      <th>1299</th>\n",
       "      <td>0</td>\n",
       "      <td>11</td>\n",
       "      <td>44.05</td>\n",
       "      <td>1</td>\n",
       "      <td>0</td>\n",
       "      <td>0</td>\n",
       "      <td>1</td>\n",
       "      <td>0</td>\n",
       "      <td>0</td>\n",
       "      <td>1</td>\n",
       "      <td>...</td>\n",
       "      <td>1</td>\n",
       "      <td>0</td>\n",
       "      <td>0</td>\n",
       "      <td>0</td>\n",
       "      <td>1</td>\n",
       "      <td>0</td>\n",
       "      <td>0</td>\n",
       "      <td>1</td>\n",
       "      <td>0</td>\n",
       "      <td>0</td>\n",
       "    </tr>\n",
       "    <tr>\n",
       "      <th>2694</th>\n",
       "      <td>0</td>\n",
       "      <td>8</td>\n",
       "      <td>19.65</td>\n",
       "      <td>1</td>\n",
       "      <td>0</td>\n",
       "      <td>0</td>\n",
       "      <td>0</td>\n",
       "      <td>0</td>\n",
       "      <td>1</td>\n",
       "      <td>0</td>\n",
       "      <td>...</td>\n",
       "      <td>0</td>\n",
       "      <td>1</td>\n",
       "      <td>0</td>\n",
       "      <td>0</td>\n",
       "      <td>1</td>\n",
       "      <td>0</td>\n",
       "      <td>1</td>\n",
       "      <td>0</td>\n",
       "      <td>0</td>\n",
       "      <td>0</td>\n",
       "    </tr>\n",
       "  </tbody>\n",
       "</table>\n",
       "<p>5 rows × 34 columns</p>\n",
       "</div>"
      ],
      "text/plain": [
       "      Maior65Anos  MesesDeContrato  ContaMensal  VariasLinhasTelefonicas_Nao  \\\n",
       "3368            0               46        94.15                            0   \n",
       "1378            0               58        66.80                            0   \n",
       "754             0                2        90.35                            1   \n",
       "1299            0               11        44.05                            1   \n",
       "2694            0                8        19.65                            1   \n",
       "\n",
       "      VariasLinhasTelefonicas_SemServicoTelefonico  \\\n",
       "3368                                             0   \n",
       "1378                                             0   \n",
       "754                                              0   \n",
       "1299                                             0   \n",
       "2694                                             0   \n",
       "\n",
       "      VariasLinhasTelefonicas_Sim  ServicoDeInternet_DSL  \\\n",
       "3368                            1                      0   \n",
       "1378                            1                      1   \n",
       "754                             0                      0   \n",
       "1299                            0                      1   \n",
       "2694                            0                      0   \n",
       "\n",
       "      ServicoDeInternet_FibraOptica  ServicoDeInternet_Nao  \\\n",
       "3368                              1                      0   \n",
       "1378                              0                      0   \n",
       "754                               1                      0   \n",
       "1299                              0                      0   \n",
       "2694                              0                      1   \n",
       "\n",
       "      SegurancaOnline_Nao  ...  StreamingDeFilmes_Nao  \\\n",
       "3368                    1  ...                      0   \n",
       "1378                    1  ...                      1   \n",
       "754                     0  ...                      1   \n",
       "1299                    1  ...                      1   \n",
       "2694                    0  ...                      0   \n",
       "\n",
       "      StreamingDeFilmes_SemServicoDeInternet  StreamingDeFilmes_Sim  \\\n",
       "3368                                       0                      1   \n",
       "1378                                       0                      0   \n",
       "754                                        0                      0   \n",
       "1299                                       0                      0   \n",
       "2694                                       1                      0   \n",
       "\n",
       "      TipoDeContrato_DoisAnos  TipoDeContrato_Mensalmente  \\\n",
       "3368                        0                           0   \n",
       "1378                        0                           1   \n",
       "754                         0                           1   \n",
       "1299                        0                           1   \n",
       "2694                        0                           1   \n",
       "\n",
       "      TipoDeContrato_UmAno  FormaDePagamento_CartaoDeCredito  \\\n",
       "3368                     1                                 0   \n",
       "1378                     0                                 0   \n",
       "754                      0                                 0   \n",
       "1299                     0                                 0   \n",
       "2694                     0                                 1   \n",
       "\n",
       "      FormaDePagamento_ChequeDigital  FormaDePagamento_ChequePapel  \\\n",
       "3368                               1                             0   \n",
       "1378                               0                             0   \n",
       "754                                1                             0   \n",
       "1299                               1                             0   \n",
       "2694                               0                             0   \n",
       "\n",
       "      FormaDePagamento_DebitoEmConta  \n",
       "3368                               0  \n",
       "1378                               1  \n",
       "754                                0  \n",
       "1299                               0  \n",
       "2694                               0  \n",
       "\n",
       "[5 rows x 34 columns]"
      ]
     },
     "execution_count": 8,
     "metadata": {},
     "output_type": "execute_result"
    }
   ],
   "source": [
    "#Utilizando o getdummies para o restante das variáveis categóricas\n",
    "dummie_dados = pd.get_dummies(dados.drop(['Conjuge', 'Dependentes', 'TelefoneFixo', 'PagamentoOnline','Churn'], axis=1))\n",
    "dummie_dados.sample(5)"
   ]
  },
  {
   "cell_type": "code",
   "execution_count": 9,
   "id": "0c308138",
   "metadata": {},
   "outputs": [
    {
     "data": {
      "text/html": [
       "<div>\n",
       "<style scoped>\n",
       "    .dataframe tbody tr th:only-of-type {\n",
       "        vertical-align: middle;\n",
       "    }\n",
       "\n",
       "    .dataframe tbody tr th {\n",
       "        vertical-align: top;\n",
       "    }\n",
       "\n",
       "    .dataframe thead th {\n",
       "        text-align: right;\n",
       "    }\n",
       "</style>\n",
       "<table border=\"1\" class=\"dataframe\">\n",
       "  <thead>\n",
       "    <tr style=\"text-align: right;\">\n",
       "      <th></th>\n",
       "      <th>Conjuge</th>\n",
       "      <th>Dependentes</th>\n",
       "      <th>TelefoneFixo</th>\n",
       "      <th>PagamentoOnline</th>\n",
       "      <th>Churn</th>\n",
       "      <th>Maior65Anos</th>\n",
       "      <th>MesesDeContrato</th>\n",
       "      <th>ContaMensal</th>\n",
       "      <th>VariasLinhasTelefonicas_Nao</th>\n",
       "      <th>VariasLinhasTelefonicas_SemServicoTelefonico</th>\n",
       "      <th>...</th>\n",
       "      <th>StreamingDeFilmes_Nao</th>\n",
       "      <th>StreamingDeFilmes_SemServicoDeInternet</th>\n",
       "      <th>StreamingDeFilmes_Sim</th>\n",
       "      <th>TipoDeContrato_DoisAnos</th>\n",
       "      <th>TipoDeContrato_Mensalmente</th>\n",
       "      <th>TipoDeContrato_UmAno</th>\n",
       "      <th>FormaDePagamento_CartaoDeCredito</th>\n",
       "      <th>FormaDePagamento_ChequeDigital</th>\n",
       "      <th>FormaDePagamento_ChequePapel</th>\n",
       "      <th>FormaDePagamento_DebitoEmConta</th>\n",
       "    </tr>\n",
       "  </thead>\n",
       "  <tbody>\n",
       "    <tr>\n",
       "      <th>5575</th>\n",
       "      <td>1</td>\n",
       "      <td>1</td>\n",
       "      <td>1</td>\n",
       "      <td>0</td>\n",
       "      <td>0</td>\n",
       "      <td>0</td>\n",
       "      <td>70</td>\n",
       "      <td>78.35</td>\n",
       "      <td>0</td>\n",
       "      <td>0</td>\n",
       "      <td>...</td>\n",
       "      <td>0</td>\n",
       "      <td>0</td>\n",
       "      <td>1</td>\n",
       "      <td>0</td>\n",
       "      <td>0</td>\n",
       "      <td>1</td>\n",
       "      <td>0</td>\n",
       "      <td>0</td>\n",
       "      <td>0</td>\n",
       "      <td>1</td>\n",
       "    </tr>\n",
       "    <tr>\n",
       "      <th>3559</th>\n",
       "      <td>0</td>\n",
       "      <td>0</td>\n",
       "      <td>1</td>\n",
       "      <td>0</td>\n",
       "      <td>0</td>\n",
       "      <td>0</td>\n",
       "      <td>27</td>\n",
       "      <td>19.85</td>\n",
       "      <td>1</td>\n",
       "      <td>0</td>\n",
       "      <td>...</td>\n",
       "      <td>0</td>\n",
       "      <td>1</td>\n",
       "      <td>0</td>\n",
       "      <td>1</td>\n",
       "      <td>0</td>\n",
       "      <td>0</td>\n",
       "      <td>1</td>\n",
       "      <td>0</td>\n",
       "      <td>0</td>\n",
       "      <td>0</td>\n",
       "    </tr>\n",
       "    <tr>\n",
       "      <th>1010</th>\n",
       "      <td>0</td>\n",
       "      <td>0</td>\n",
       "      <td>1</td>\n",
       "      <td>1</td>\n",
       "      <td>0</td>\n",
       "      <td>0</td>\n",
       "      <td>3</td>\n",
       "      <td>50.15</td>\n",
       "      <td>1</td>\n",
       "      <td>0</td>\n",
       "      <td>...</td>\n",
       "      <td>1</td>\n",
       "      <td>0</td>\n",
       "      <td>0</td>\n",
       "      <td>0</td>\n",
       "      <td>1</td>\n",
       "      <td>0</td>\n",
       "      <td>0</td>\n",
       "      <td>0</td>\n",
       "      <td>1</td>\n",
       "      <td>0</td>\n",
       "    </tr>\n",
       "    <tr>\n",
       "      <th>5940</th>\n",
       "      <td>1</td>\n",
       "      <td>1</td>\n",
       "      <td>1</td>\n",
       "      <td>1</td>\n",
       "      <td>0</td>\n",
       "      <td>0</td>\n",
       "      <td>56</td>\n",
       "      <td>85.85</td>\n",
       "      <td>1</td>\n",
       "      <td>0</td>\n",
       "      <td>...</td>\n",
       "      <td>1</td>\n",
       "      <td>0</td>\n",
       "      <td>0</td>\n",
       "      <td>0</td>\n",
       "      <td>0</td>\n",
       "      <td>1</td>\n",
       "      <td>0</td>\n",
       "      <td>0</td>\n",
       "      <td>1</td>\n",
       "      <td>0</td>\n",
       "    </tr>\n",
       "    <tr>\n",
       "      <th>5383</th>\n",
       "      <td>0</td>\n",
       "      <td>0</td>\n",
       "      <td>1</td>\n",
       "      <td>1</td>\n",
       "      <td>1</td>\n",
       "      <td>0</td>\n",
       "      <td>36</td>\n",
       "      <td>84.75</td>\n",
       "      <td>0</td>\n",
       "      <td>0</td>\n",
       "      <td>...</td>\n",
       "      <td>0</td>\n",
       "      <td>0</td>\n",
       "      <td>1</td>\n",
       "      <td>0</td>\n",
       "      <td>1</td>\n",
       "      <td>0</td>\n",
       "      <td>0</td>\n",
       "      <td>1</td>\n",
       "      <td>0</td>\n",
       "      <td>0</td>\n",
       "    </tr>\n",
       "  </tbody>\n",
       "</table>\n",
       "<p>5 rows × 39 columns</p>\n",
       "</div>"
      ],
      "text/plain": [
       "      Conjuge  Dependentes  TelefoneFixo  PagamentoOnline  Churn  Maior65Anos  \\\n",
       "5575        1            1             1                0      0            0   \n",
       "3559        0            0             1                0      0            0   \n",
       "1010        0            0             1                1      0            0   \n",
       "5940        1            1             1                1      0            0   \n",
       "5383        0            0             1                1      1            0   \n",
       "\n",
       "      MesesDeContrato  ContaMensal  VariasLinhasTelefonicas_Nao  \\\n",
       "5575               70        78.35                            0   \n",
       "3559               27        19.85                            1   \n",
       "1010                3        50.15                            1   \n",
       "5940               56        85.85                            1   \n",
       "5383               36        84.75                            0   \n",
       "\n",
       "      VariasLinhasTelefonicas_SemServicoTelefonico  ...  \\\n",
       "5575                                             0  ...   \n",
       "3559                                             0  ...   \n",
       "1010                                             0  ...   \n",
       "5940                                             0  ...   \n",
       "5383                                             0  ...   \n",
       "\n",
       "      StreamingDeFilmes_Nao  StreamingDeFilmes_SemServicoDeInternet  \\\n",
       "5575                      0                                       0   \n",
       "3559                      0                                       1   \n",
       "1010                      1                                       0   \n",
       "5940                      1                                       0   \n",
       "5383                      0                                       0   \n",
       "\n",
       "      StreamingDeFilmes_Sim  TipoDeContrato_DoisAnos  \\\n",
       "5575                      1                        0   \n",
       "3559                      0                        1   \n",
       "1010                      0                        0   \n",
       "5940                      0                        0   \n",
       "5383                      1                        0   \n",
       "\n",
       "      TipoDeContrato_Mensalmente  TipoDeContrato_UmAno  \\\n",
       "5575                           0                     1   \n",
       "3559                           0                     0   \n",
       "1010                           1                     0   \n",
       "5940                           0                     1   \n",
       "5383                           1                     0   \n",
       "\n",
       "      FormaDePagamento_CartaoDeCredito  FormaDePagamento_ChequeDigital  \\\n",
       "5575                                 0                               0   \n",
       "3559                                 1                               0   \n",
       "1010                                 0                               0   \n",
       "5940                                 0                               0   \n",
       "5383                                 0                               1   \n",
       "\n",
       "      FormaDePagamento_ChequePapel  FormaDePagamento_DebitoEmConta  \n",
       "5575                             0                               1  \n",
       "3559                             0                               0  \n",
       "1010                             1                               0  \n",
       "5940                             1                               0  \n",
       "5383                             0                               0  \n",
       "\n",
       "[5 rows x 39 columns]"
      ]
     },
     "execution_count": 9,
     "metadata": {},
     "output_type": "execute_result"
    }
   ],
   "source": [
    "#Concatenando os dados\n",
    "dados_final = pd.concat([dados_modificados, dummie_dados], axis=1)\n",
    "dados_final.sample(5)"
   ]
  },
  {
   "cell_type": "code",
   "execution_count": 10,
   "id": "093cfbda",
   "metadata": {},
   "outputs": [
    {
     "data": {
      "text/plain": [
       "['Conjuge',\n",
       " 'Dependentes',\n",
       " 'TelefoneFixo',\n",
       " 'PagamentoOnline',\n",
       " 'Churn',\n",
       " 'Maior65Anos',\n",
       " 'MesesDeContrato',\n",
       " 'ContaMensal',\n",
       " 'VariasLinhasTelefonicas_Nao',\n",
       " 'VariasLinhasTelefonicas_SemServicoTelefonico',\n",
       " 'VariasLinhasTelefonicas_Sim',\n",
       " 'ServicoDeInternet_DSL',\n",
       " 'ServicoDeInternet_FibraOptica',\n",
       " 'ServicoDeInternet_Nao',\n",
       " 'SegurancaOnline_Nao',\n",
       " 'SegurancaOnline_SemServicoDeInternet',\n",
       " 'SegurancaOnline_Sim',\n",
       " 'BackupOnline_Nao',\n",
       " 'BackupOnline_SemServicoDeInternet',\n",
       " 'BackupOnline_Sim',\n",
       " 'SeguroNoDispositivo_Nao',\n",
       " 'SeguroNoDispositivo_SemServicoDeInternet',\n",
       " 'SeguroNoDispositivo_Sim',\n",
       " 'SuporteTecnico_Nao',\n",
       " 'SuporteTecnico_SemServicoDeInternet',\n",
       " 'SuporteTecnico_Sim',\n",
       " 'TVaCabo_Nao',\n",
       " 'TVaCabo_SemServicoDeInternet',\n",
       " 'TVaCabo_Sim',\n",
       " 'StreamingDeFilmes_Nao',\n",
       " 'StreamingDeFilmes_SemServicoDeInternet',\n",
       " 'StreamingDeFilmes_Sim',\n",
       " 'TipoDeContrato_DoisAnos',\n",
       " 'TipoDeContrato_Mensalmente',\n",
       " 'TipoDeContrato_UmAno',\n",
       " 'FormaDePagamento_CartaoDeCredito',\n",
       " 'FormaDePagamento_ChequeDigital',\n",
       " 'FormaDePagamento_ChequePapel',\n",
       " 'FormaDePagamento_DebitoEmConta']"
      ]
     },
     "execution_count": 10,
     "metadata": {},
     "output_type": "execute_result"
    }
   ],
   "source": [
    "list(dados_final.columns)"
   ]
  },
  {
   "cell_type": "code",
   "execution_count": 11,
   "id": "e78c8a41",
   "metadata": {},
   "outputs": [],
   "source": [
    "#Removendo algumas colunas\n",
    "dados_final.drop(['StreamingDeFilmes_Nao','TVaCabo_Nao', 'SuporteTecnico_Nao','SeguroNoDispositivo_Nao','BackupOnline_Nao' ,\n",
    "                 'SegurancaOnline_Nao', 'VariasLinhasTelefonicas_Nao'], axis=1, inplace=True)\n"
   ]
  },
  {
   "cell_type": "code",
   "execution_count": 12,
   "id": "0faadbda",
   "metadata": {},
   "outputs": [
    {
     "data": {
      "text/html": [
       "<div>\n",
       "<style scoped>\n",
       "    .dataframe tbody tr th:only-of-type {\n",
       "        vertical-align: middle;\n",
       "    }\n",
       "\n",
       "    .dataframe tbody tr th {\n",
       "        vertical-align: top;\n",
       "    }\n",
       "\n",
       "    .dataframe thead th {\n",
       "        text-align: right;\n",
       "    }\n",
       "</style>\n",
       "<table border=\"1\" class=\"dataframe\">\n",
       "  <thead>\n",
       "    <tr style=\"text-align: right;\">\n",
       "      <th></th>\n",
       "      <th>Conjuge</th>\n",
       "      <th>Dependentes</th>\n",
       "      <th>TelefoneFixo</th>\n",
       "      <th>PagamentoOnline</th>\n",
       "      <th>Churn</th>\n",
       "      <th>Maior65Anos</th>\n",
       "      <th>MesesDeContrato</th>\n",
       "      <th>ContaMensal</th>\n",
       "      <th>VariasLinhasTelefonicas_SemServicoTelefonico</th>\n",
       "      <th>VariasLinhasTelefonicas_Sim</th>\n",
       "      <th>...</th>\n",
       "      <th>TVaCabo_Sim</th>\n",
       "      <th>StreamingDeFilmes_SemServicoDeInternet</th>\n",
       "      <th>StreamingDeFilmes_Sim</th>\n",
       "      <th>TipoDeContrato_DoisAnos</th>\n",
       "      <th>TipoDeContrato_Mensalmente</th>\n",
       "      <th>TipoDeContrato_UmAno</th>\n",
       "      <th>FormaDePagamento_CartaoDeCredito</th>\n",
       "      <th>FormaDePagamento_ChequeDigital</th>\n",
       "      <th>FormaDePagamento_ChequePapel</th>\n",
       "      <th>FormaDePagamento_DebitoEmConta</th>\n",
       "    </tr>\n",
       "  </thead>\n",
       "  <tbody>\n",
       "    <tr>\n",
       "      <th>2250</th>\n",
       "      <td>0</td>\n",
       "      <td>0</td>\n",
       "      <td>1</td>\n",
       "      <td>0</td>\n",
       "      <td>0</td>\n",
       "      <td>0</td>\n",
       "      <td>15</td>\n",
       "      <td>20.10</td>\n",
       "      <td>0</td>\n",
       "      <td>0</td>\n",
       "      <td>...</td>\n",
       "      <td>0</td>\n",
       "      <td>1</td>\n",
       "      <td>0</td>\n",
       "      <td>0</td>\n",
       "      <td>0</td>\n",
       "      <td>1</td>\n",
       "      <td>1</td>\n",
       "      <td>0</td>\n",
       "      <td>0</td>\n",
       "      <td>0</td>\n",
       "    </tr>\n",
       "    <tr>\n",
       "      <th>2774</th>\n",
       "      <td>0</td>\n",
       "      <td>0</td>\n",
       "      <td>1</td>\n",
       "      <td>0</td>\n",
       "      <td>0</td>\n",
       "      <td>0</td>\n",
       "      <td>6</td>\n",
       "      <td>50.05</td>\n",
       "      <td>0</td>\n",
       "      <td>0</td>\n",
       "      <td>...</td>\n",
       "      <td>0</td>\n",
       "      <td>0</td>\n",
       "      <td>0</td>\n",
       "      <td>0</td>\n",
       "      <td>1</td>\n",
       "      <td>0</td>\n",
       "      <td>0</td>\n",
       "      <td>0</td>\n",
       "      <td>1</td>\n",
       "      <td>0</td>\n",
       "    </tr>\n",
       "    <tr>\n",
       "      <th>3698</th>\n",
       "      <td>0</td>\n",
       "      <td>0</td>\n",
       "      <td>1</td>\n",
       "      <td>1</td>\n",
       "      <td>0</td>\n",
       "      <td>0</td>\n",
       "      <td>59</td>\n",
       "      <td>83.25</td>\n",
       "      <td>0</td>\n",
       "      <td>1</td>\n",
       "      <td>...</td>\n",
       "      <td>0</td>\n",
       "      <td>0</td>\n",
       "      <td>0</td>\n",
       "      <td>0</td>\n",
       "      <td>1</td>\n",
       "      <td>0</td>\n",
       "      <td>0</td>\n",
       "      <td>1</td>\n",
       "      <td>0</td>\n",
       "      <td>0</td>\n",
       "    </tr>\n",
       "    <tr>\n",
       "      <th>4759</th>\n",
       "      <td>0</td>\n",
       "      <td>0</td>\n",
       "      <td>1</td>\n",
       "      <td>1</td>\n",
       "      <td>1</td>\n",
       "      <td>0</td>\n",
       "      <td>1</td>\n",
       "      <td>78.95</td>\n",
       "      <td>0</td>\n",
       "      <td>0</td>\n",
       "      <td>...</td>\n",
       "      <td>1</td>\n",
       "      <td>0</td>\n",
       "      <td>0</td>\n",
       "      <td>0</td>\n",
       "      <td>1</td>\n",
       "      <td>0</td>\n",
       "      <td>0</td>\n",
       "      <td>1</td>\n",
       "      <td>0</td>\n",
       "      <td>0</td>\n",
       "    </tr>\n",
       "    <tr>\n",
       "      <th>2274</th>\n",
       "      <td>1</td>\n",
       "      <td>1</td>\n",
       "      <td>1</td>\n",
       "      <td>1</td>\n",
       "      <td>1</td>\n",
       "      <td>0</td>\n",
       "      <td>23</td>\n",
       "      <td>99.85</td>\n",
       "      <td>0</td>\n",
       "      <td>0</td>\n",
       "      <td>...</td>\n",
       "      <td>1</td>\n",
       "      <td>0</td>\n",
       "      <td>1</td>\n",
       "      <td>0</td>\n",
       "      <td>1</td>\n",
       "      <td>0</td>\n",
       "      <td>0</td>\n",
       "      <td>1</td>\n",
       "      <td>0</td>\n",
       "      <td>0</td>\n",
       "    </tr>\n",
       "  </tbody>\n",
       "</table>\n",
       "<p>5 rows × 32 columns</p>\n",
       "</div>"
      ],
      "text/plain": [
       "      Conjuge  Dependentes  TelefoneFixo  PagamentoOnline  Churn  Maior65Anos  \\\n",
       "2250        0            0             1                0      0            0   \n",
       "2774        0            0             1                0      0            0   \n",
       "3698        0            0             1                1      0            0   \n",
       "4759        0            0             1                1      1            0   \n",
       "2274        1            1             1                1      1            0   \n",
       "\n",
       "      MesesDeContrato  ContaMensal  \\\n",
       "2250               15        20.10   \n",
       "2774                6        50.05   \n",
       "3698               59        83.25   \n",
       "4759                1        78.95   \n",
       "2274               23        99.85   \n",
       "\n",
       "      VariasLinhasTelefonicas_SemServicoTelefonico  \\\n",
       "2250                                             0   \n",
       "2774                                             0   \n",
       "3698                                             0   \n",
       "4759                                             0   \n",
       "2274                                             0   \n",
       "\n",
       "      VariasLinhasTelefonicas_Sim  ...  TVaCabo_Sim  \\\n",
       "2250                            0  ...            0   \n",
       "2774                            0  ...            0   \n",
       "3698                            1  ...            0   \n",
       "4759                            0  ...            1   \n",
       "2274                            0  ...            1   \n",
       "\n",
       "      StreamingDeFilmes_SemServicoDeInternet  StreamingDeFilmes_Sim  \\\n",
       "2250                                       1                      0   \n",
       "2774                                       0                      0   \n",
       "3698                                       0                      0   \n",
       "4759                                       0                      0   \n",
       "2274                                       0                      1   \n",
       "\n",
       "      TipoDeContrato_DoisAnos  TipoDeContrato_Mensalmente  \\\n",
       "2250                        0                           0   \n",
       "2774                        0                           1   \n",
       "3698                        0                           1   \n",
       "4759                        0                           1   \n",
       "2274                        0                           1   \n",
       "\n",
       "      TipoDeContrato_UmAno  FormaDePagamento_CartaoDeCredito  \\\n",
       "2250                     1                                 1   \n",
       "2774                     0                                 0   \n",
       "3698                     0                                 0   \n",
       "4759                     0                                 0   \n",
       "2274                     0                                 0   \n",
       "\n",
       "      FormaDePagamento_ChequeDigital  FormaDePagamento_ChequePapel  \\\n",
       "2250                               0                             0   \n",
       "2774                               0                             1   \n",
       "3698                               1                             0   \n",
       "4759                               1                             0   \n",
       "2274                               1                             0   \n",
       "\n",
       "      FormaDePagamento_DebitoEmConta  \n",
       "2250                               0  \n",
       "2774                               0  \n",
       "3698                               0  \n",
       "4759                               0  \n",
       "2274                               0  \n",
       "\n",
       "[5 rows x 32 columns]"
      ]
     },
     "execution_count": 12,
     "metadata": {},
     "output_type": "execute_result"
    }
   ],
   "source": [
    "dados_final.sample(5)"
   ]
  },
  {
   "cell_type": "markdown",
   "id": "013adb3b",
   "metadata": {},
   "source": [
    "#### Dados desbalanceadosm"
   ]
  },
  {
   "cell_type": "markdown",
   "id": "adbdf5fc",
   "metadata": {},
   "source": [
    "Dados desbalanceados são aqueles que possuem muitos registros \n",
    "para uma categoria e poucos para outra. Se não balanceamos \n",
    "esses dados de alguma forma, eles podem acarretar em problemas\n",
    "na construção de modelos e na geração de previsões."
   ]
  },
  {
   "cell_type": "code",
   "execution_count": 13,
   "id": "b22783d7",
   "metadata": {},
   "outputs": [],
   "source": [
    "sns.set_palette('dark')\n",
    "sns.set_style('whitegrid')"
   ]
  },
  {
   "cell_type": "code",
   "execution_count": 14,
   "id": "d8197b2e",
   "metadata": {},
   "outputs": [
    {
     "data": {
      "text/plain": [
       "Text(0, 0.5, 'Quantidade')"
      ]
     },
     "execution_count": 14,
     "metadata": {},
     "output_type": "execute_result"
    },
    {
     "data": {
      "image/png": "[encoded data removed]",
      "text/plain": [
       "<Figure size 432x288 with 1 Axes>"
      ]
     },
     "metadata": {},
     "output_type": "display_data"
    }
   ],
   "source": [
    "ax = sns.countplot(x='Churn', data=dados_final)\n",
    "ax.set_ylabel('Quantidade')"
   ]
  },
  {
   "cell_type": "code",
   "execution_count": 15,
   "id": "29dce3e1",
   "metadata": {},
   "outputs": [
    {
     "data": {
      "text/plain": [
       "0    0.73463\n",
       "1    0.26537\n",
       "Name: Churn, dtype: float64"
      ]
     },
     "execution_count": 15,
     "metadata": {},
     "output_type": "execute_result"
    }
   ],
   "source": [
    "dados_final.Churn.value_counts(normalize=True)"
   ]
  },
  {
   "cell_type": "markdown",
   "id": "31736e65",
   "metadata": {},
   "source": [
    "Analisando, podemos perceber que nossa variável está desbalanceada e precisamos tratar isso."
   ]
  },
  {
   "cell_type": "markdown",
   "id": "42d2d4f2",
   "metadata": {},
   "source": [
    "Para realizar o balanceamento dos dados, utilizaremos uma técnica chamada de Oversampling, SMOTE"
   ]
  },
  {
   "cell_type": "code",
   "execution_count": 16,
   "id": "7bd1fc4e",
   "metadata": {},
   "outputs": [],
   "source": [
    "#!pip install -U imbalanced-learn #Instalação da biblioteca"
   ]
  },
  {
   "cell_type": "code",
   "execution_count": 17,
   "id": "8aa39bac",
   "metadata": {},
   "outputs": [],
   "source": [
    "# Para podermos aplicar o SMOTE, devemos separar  os dados em variáveis características e resposta  \n",
    "\n",
    "A = dados_final.drop('Churn', axis = 1)\n",
    "b = dados_final['Churn']"
   ]
  },
  {
   "cell_type": "code",
   "execution_count": 18,
   "id": "e5ce88c5",
   "metadata": {},
   "outputs": [],
   "source": [
    "from imblearn.over_sampling import SMOTE\n",
    "\n",
    "smt = SMOTE(random_state=123)  # Instancia um objeto da classe SMOTE\n",
    "A, b = smt.fit_resample(A, b)  # Realiza a reamostragem do conjunto de dados"
   ]
  },
  {
   "cell_type": "code",
   "execution_count": 19,
   "id": "22889fad",
   "metadata": {},
   "outputs": [
    {
     "data": {
      "text/html": [
       "<div>\n",
       "<style scoped>\n",
       "    .dataframe tbody tr th:only-of-type {\n",
       "        vertical-align: middle;\n",
       "    }\n",
       "\n",
       "    .dataframe tbody tr th {\n",
       "        vertical-align: top;\n",
       "    }\n",
       "\n",
       "    .dataframe thead th {\n",
       "        text-align: right;\n",
       "    }\n",
       "</style>\n",
       "<table border=\"1\" class=\"dataframe\">\n",
       "  <thead>\n",
       "    <tr style=\"text-align: right;\">\n",
       "      <th></th>\n",
       "      <th>Conjuge</th>\n",
       "      <th>Dependentes</th>\n",
       "      <th>TelefoneFixo</th>\n",
       "      <th>PagamentoOnline</th>\n",
       "      <th>Maior65Anos</th>\n",
       "      <th>MesesDeContrato</th>\n",
       "      <th>ContaMensal</th>\n",
       "      <th>VariasLinhasTelefonicas_SemServicoTelefonico</th>\n",
       "      <th>VariasLinhasTelefonicas_Sim</th>\n",
       "      <th>ServicoDeInternet_DSL</th>\n",
       "      <th>...</th>\n",
       "      <th>StreamingDeFilmes_SemServicoDeInternet</th>\n",
       "      <th>StreamingDeFilmes_Sim</th>\n",
       "      <th>TipoDeContrato_DoisAnos</th>\n",
       "      <th>TipoDeContrato_Mensalmente</th>\n",
       "      <th>TipoDeContrato_UmAno</th>\n",
       "      <th>FormaDePagamento_CartaoDeCredito</th>\n",
       "      <th>FormaDePagamento_ChequeDigital</th>\n",
       "      <th>FormaDePagamento_ChequePapel</th>\n",
       "      <th>FormaDePagamento_DebitoEmConta</th>\n",
       "      <th>Churn</th>\n",
       "    </tr>\n",
       "  </thead>\n",
       "  <tbody>\n",
       "    <tr>\n",
       "      <th>6496</th>\n",
       "      <td>1</td>\n",
       "      <td>0</td>\n",
       "      <td>1</td>\n",
       "      <td>0</td>\n",
       "      <td>1</td>\n",
       "      <td>40</td>\n",
       "      <td>101.850000</td>\n",
       "      <td>0</td>\n",
       "      <td>1</td>\n",
       "      <td>0</td>\n",
       "      <td>...</td>\n",
       "      <td>0</td>\n",
       "      <td>1</td>\n",
       "      <td>0</td>\n",
       "      <td>1</td>\n",
       "      <td>0</td>\n",
       "      <td>0</td>\n",
       "      <td>1</td>\n",
       "      <td>0</td>\n",
       "      <td>0</td>\n",
       "      <td>1</td>\n",
       "    </tr>\n",
       "    <tr>\n",
       "      <th>1926</th>\n",
       "      <td>1</td>\n",
       "      <td>1</td>\n",
       "      <td>1</td>\n",
       "      <td>1</td>\n",
       "      <td>0</td>\n",
       "      <td>49</td>\n",
       "      <td>99.800000</td>\n",
       "      <td>0</td>\n",
       "      <td>1</td>\n",
       "      <td>0</td>\n",
       "      <td>...</td>\n",
       "      <td>0</td>\n",
       "      <td>1</td>\n",
       "      <td>0</td>\n",
       "      <td>1</td>\n",
       "      <td>0</td>\n",
       "      <td>0</td>\n",
       "      <td>1</td>\n",
       "      <td>0</td>\n",
       "      <td>0</td>\n",
       "      <td>1</td>\n",
       "    </tr>\n",
       "    <tr>\n",
       "      <th>3176</th>\n",
       "      <td>1</td>\n",
       "      <td>0</td>\n",
       "      <td>1</td>\n",
       "      <td>0</td>\n",
       "      <td>0</td>\n",
       "      <td>51</td>\n",
       "      <td>25.500000</td>\n",
       "      <td>0</td>\n",
       "      <td>1</td>\n",
       "      <td>0</td>\n",
       "      <td>...</td>\n",
       "      <td>1</td>\n",
       "      <td>0</td>\n",
       "      <td>1</td>\n",
       "      <td>0</td>\n",
       "      <td>0</td>\n",
       "      <td>0</td>\n",
       "      <td>0</td>\n",
       "      <td>1</td>\n",
       "      <td>0</td>\n",
       "      <td>0</td>\n",
       "    </tr>\n",
       "    <tr>\n",
       "      <th>9216</th>\n",
       "      <td>0</td>\n",
       "      <td>0</td>\n",
       "      <td>1</td>\n",
       "      <td>1</td>\n",
       "      <td>0</td>\n",
       "      <td>7</td>\n",
       "      <td>79.935633</td>\n",
       "      <td>0</td>\n",
       "      <td>0</td>\n",
       "      <td>0</td>\n",
       "      <td>...</td>\n",
       "      <td>0</td>\n",
       "      <td>0</td>\n",
       "      <td>0</td>\n",
       "      <td>1</td>\n",
       "      <td>0</td>\n",
       "      <td>0</td>\n",
       "      <td>0</td>\n",
       "      <td>0</td>\n",
       "      <td>0</td>\n",
       "      <td>1</td>\n",
       "    </tr>\n",
       "    <tr>\n",
       "      <th>4899</th>\n",
       "      <td>0</td>\n",
       "      <td>1</td>\n",
       "      <td>1</td>\n",
       "      <td>0</td>\n",
       "      <td>0</td>\n",
       "      <td>4</td>\n",
       "      <td>84.050000</td>\n",
       "      <td>0</td>\n",
       "      <td>1</td>\n",
       "      <td>0</td>\n",
       "      <td>...</td>\n",
       "      <td>0</td>\n",
       "      <td>0</td>\n",
       "      <td>0</td>\n",
       "      <td>1</td>\n",
       "      <td>0</td>\n",
       "      <td>0</td>\n",
       "      <td>0</td>\n",
       "      <td>0</td>\n",
       "      <td>1</td>\n",
       "      <td>1</td>\n",
       "    </tr>\n",
       "  </tbody>\n",
       "</table>\n",
       "<p>5 rows × 32 columns</p>\n",
       "</div>"
      ],
      "text/plain": [
       "      Conjuge  Dependentes  TelefoneFixo  PagamentoOnline  Maior65Anos  \\\n",
       "6496        1            0             1                0            1   \n",
       "1926        1            1             1                1            0   \n",
       "3176        1            0             1                0            0   \n",
       "9216        0            0             1                1            0   \n",
       "4899        0            1             1                0            0   \n",
       "\n",
       "      MesesDeContrato  ContaMensal  \\\n",
       "6496               40   101.850000   \n",
       "1926               49    99.800000   \n",
       "3176               51    25.500000   \n",
       "9216                7    79.935633   \n",
       "4899                4    84.050000   \n",
       "\n",
       "      VariasLinhasTelefonicas_SemServicoTelefonico  \\\n",
       "6496                                             0   \n",
       "1926                                             0   \n",
       "3176                                             0   \n",
       "9216                                             0   \n",
       "4899                                             0   \n",
       "\n",
       "      VariasLinhasTelefonicas_Sim  ServicoDeInternet_DSL  ...  \\\n",
       "6496                            1                      0  ...   \n",
       "1926                            1                      0  ...   \n",
       "3176                            1                      0  ...   \n",
       "9216                            0                      0  ...   \n",
       "4899                            1                      0  ...   \n",
       "\n",
       "      StreamingDeFilmes_SemServicoDeInternet  StreamingDeFilmes_Sim  \\\n",
       "6496                                       0                      1   \n",
       "1926                                       0                      1   \n",
       "3176                                       1                      0   \n",
       "9216                                       0                      0   \n",
       "4899                                       0                      0   \n",
       "\n",
       "      TipoDeContrato_DoisAnos  TipoDeContrato_Mensalmente  \\\n",
       "6496                        0                           1   \n",
       "1926                        0                           1   \n",
       "3176                        1                           0   \n",
       "9216                        0                           1   \n",
       "4899                        0                           1   \n",
       "\n",
       "      TipoDeContrato_UmAno  FormaDePagamento_CartaoDeCredito  \\\n",
       "6496                     0                                 0   \n",
       "1926                     0                                 0   \n",
       "3176                     0                                 0   \n",
       "9216                     0                                 0   \n",
       "4899                     0                                 0   \n",
       "\n",
       "      FormaDePagamento_ChequeDigital  FormaDePagamento_ChequePapel  \\\n",
       "6496                               1                             0   \n",
       "1926                               1                             0   \n",
       "3176                               0                             1   \n",
       "9216                               0                             0   \n",
       "4899                               0                             0   \n",
       "\n",
       "      FormaDePagamento_DebitoEmConta  Churn  \n",
       "6496                               0      1  \n",
       "1926                               0      1  \n",
       "3176                               0      0  \n",
       "9216                               0      1  \n",
       "4899                               1      1  \n",
       "\n",
       "[5 rows x 32 columns]"
      ]
     },
     "execution_count": 19,
     "metadata": {},
     "output_type": "execute_result"
    }
   ],
   "source": [
    "dados_final = pd.concat([A, b], axis=1)  # Concatena a variável target (b) com as features (A)\n",
    "dados_final.sample(5)"
   ]
  },
  {
   "cell_type": "code",
   "execution_count": 20,
   "id": "e3d1b528",
   "metadata": {},
   "outputs": [
    {
     "data": {
      "text/plain": [
       "Text(0, 0.5, 'Quantidade')"
      ]
     },
     "execution_count": 20,
     "metadata": {},
     "output_type": "execute_result"
    },
    {
     "data": {
      "image/png": "[encoded data removed]",
      "text/plain": [
       "<Figure size 432x288 with 1 Axes>"
      ]
     },
     "metadata": {},
     "output_type": "display_data"
    }
   ],
   "source": [
    "ax = sns.countplot(x='Churn', data=dados_final)\n",
    "ax.set_ylabel('Quantidade')"
   ]
  },
  {
   "cell_type": "markdown",
   "id": "95f2beff",
   "metadata": {},
   "source": [
    "# NORMALIZAÇÃO DOS DADOS"
   ]
  },
  {
   "cell_type": "code",
   "execution_count": 21,
   "id": "d7857b6c",
   "metadata": {},
   "outputs": [],
   "source": [
    "#Divisão em inputs e outputs\n",
    "X = dados_final.drop('Churn', axis = 1)\n",
    "y = dados_final['Churn']"
   ]
  },
  {
   "cell_type": "code",
   "execution_count": 22,
   "id": "a0dd1303",
   "metadata": {},
   "outputs": [
    {
     "data": {
      "text/plain": [
       "array([[ 1.26568609, -0.53010391, -3.0591434 , ...,  1.29486231,\n",
       "        -0.48369553, -0.43742701],\n",
       "       [-0.79008532, -0.53010391,  0.32688889, ..., -0.77228289,\n",
       "         2.06741626, -0.43742701],\n",
       "       [-0.79008532, -0.53010391,  0.32688889, ..., -0.77228289,\n",
       "         2.06741626, -0.43742701],\n",
       "       ...,\n",
       "       [ 1.26568609,  1.88642262,  0.32688889, ...,  1.29486231,\n",
       "        -0.48369553, -0.43742701],\n",
       "       [-0.79008532, -0.53010391,  0.32688889, ..., -0.77228289,\n",
       "        -0.48369553, -0.43742701],\n",
       "       [-0.79008532, -0.53010391,  0.32688889, ..., -0.77228289,\n",
       "        -0.48369553, -0.43742701]])"
      ]
     },
     "execution_count": 22,
     "metadata": {},
     "output_type": "execute_result"
    }
   ],
   "source": [
    "#Import da biblioteca para normalizar os dados\n",
    "from sklearn.preprocessing import StandardScaler\n",
    "scaler = StandardScaler()\n",
    "X = scaler.fit_transform(X) #Normalizando os dados\n",
    "X"
   ]
  },
  {
   "cell_type": "markdown",
   "id": "ee0e73eb",
   "metadata": {},
   "source": [
    "## TREINO E TESTE"
   ]
  },
  {
   "cell_type": "code",
   "execution_count": 23,
   "id": "1722d21a",
   "metadata": {},
   "outputs": [],
   "source": [
    "from sklearn.model_selection import train_test_split"
   ]
  },
  {
   "cell_type": "code",
   "execution_count": 24,
   "id": "7fef1280",
   "metadata": {},
   "outputs": [],
   "source": [
    "#divisão dos dados em treino e teste\n",
    "X_train, X_test, y_train, y_test = train_test_split(X, y, test_size = 0.3, random_state=123)"
   ]
  },
  {
   "cell_type": "markdown",
   "id": "918b7477",
   "metadata": {},
   "source": [
    "# Modelo knn"
   ]
  },
  {
   "cell_type": "code",
   "execution_count": 25,
   "id": "66f5251c",
   "metadata": {},
   "outputs": [],
   "source": [
    "#Importação do modelo KNN\n",
    "from sklearn.neighbors import KNeighborsClassifier"
   ]
  },
  {
   "cell_type": "markdown",
   "id": "ecc17aa7",
   "metadata": {},
   "source": [
    "### Vamos utilizar o método conhecido como método cotovelo para saber a quantidade ideal de clusters                 ( K vizinhos)."
   ]
  },
  {
   "cell_type": "code",
   "execution_count": 26,
   "id": "427e1b2b",
   "metadata": {},
   "outputs": [],
   "source": [
    "error_rate = []\n",
    "\n",
    "for i in range(1, 30):\n",
    "    knn_model = KNeighborsClassifier(n_neighbors = i)\n",
    "    knn_model.fit(X_train, y_train)\n",
    "    knn_y_pred = knn_model.predict(X_test)\n",
    "    error_rate.append(np.mean(knn_y_pred != y_test))"
   ]
  },
  {
   "cell_type": "code",
   "execution_count": 27,
   "id": "3a976622",
   "metadata": {},
   "outputs": [
    {
     "data": {
      "text/plain": [
       "Text(0, 0.5, 'Taxa de error')"
      ]
     },
     "execution_count": 27,
     "metadata": {},
     "output_type": "execute_result"
    },
    {
     "data": {
      "image/png": "[encoded data removed]",
      "text/plain": [
       "<Figure size 1008x576 with 1 Axes>"
      ]
     },
     "metadata": {},
     "output_type": "display_data"
    }
   ],
   "source": [
    "#Visualização da variação dos clusters\n",
    "plt.figure(figsize=(14,8))\n",
    "plt.plot(range(1,30), error_rate, color='blue', ls='--', marker='o')\n",
    "plt.xlabel('K',  fontsize=15)\n",
    "plt.ylabel('Taxa de error', fontsize=15)"
   ]
  },
  {
   "cell_type": "markdown",
   "id": "2fb89029",
   "metadata": {},
   "source": [
    "K = 14 parece ser um bom valo para usar no modelo"
   ]
  },
  {
   "cell_type": "code",
   "execution_count": 28,
   "id": "1595d8aa",
   "metadata": {},
   "outputs": [],
   "source": [
    "#Modelo\n",
    "knn_modelo = KNeighborsClassifier(n_neighbors = 14) #Estanciando o modelo, n_neighbors é o número de clusters\n",
    "knn_modelo.fit(X_train, y_train) #Treinando o modelo \n",
    "knn_pred = knn_modelo.predict(X_test) #Prevendo dados"
   ]
  },
  {
   "cell_type": "code",
   "execution_count": 29,
   "id": "38da0ab1",
   "metadata": {},
   "outputs": [
    {
     "name": "stdout",
     "output_type": "stream",
     "text": [
      "[[1232  337]\n",
      " [ 227 1309]]\n"
     ]
    }
   ],
   "source": [
    "#Matriz de confusão\n",
    "print(confusion_matrix(y_test, knn_pred))"
   ]
  },
  {
   "cell_type": "code",
   "execution_count": 30,
   "id": "9864a1ab",
   "metadata": {},
   "outputs": [
    {
     "name": "stdout",
     "output_type": "stream",
     "text": [
      "0.8183574879227054\n"
     ]
    }
   ],
   "source": [
    "#Acurácia\n",
    "print(accuracy_score(y_test, knn_pred))"
   ]
  },
  {
   "cell_type": "code",
   "execution_count": 31,
   "id": "2968f221",
   "metadata": {},
   "outputs": [
    {
     "name": "stdout",
     "output_type": "stream",
     "text": [
      "0.7952612393681653\n"
     ]
    }
   ],
   "source": [
    "#precisão\n",
    "print(precision_score(y_test, knn_pred))"
   ]
  },
  {
   "cell_type": "markdown",
   "id": "0bbd2ebf",
   "metadata": {},
   "source": [
    "# MODELO Bernoulli Naïve Bayes"
   ]
  },
  {
   "cell_type": "markdown",
   "id": "644d7145",
   "metadata": {},
   "source": [
    "classificador probabilístico baseado no Teorema de Bayes, o qual foi criado por Thomas Bayes (1701 - 1761)\".Trata-se de um Algorítimo Supervisionado destinado a probabilidades"
   ]
  },
  {
   "cell_type": "code",
   "execution_count": 32,
   "id": "37f4f701",
   "metadata": {},
   "outputs": [],
   "source": [
    "from sklearn.naive_bayes import BernoulliNB #Import da biblioteca"
   ]
  },
  {
   "cell_type": "code",
   "execution_count": 33,
   "id": "979026d7",
   "metadata": {},
   "outputs": [],
   "source": [
    "BernNB = BernoulliNB(binarize = 0.3)\n",
    "BernNB.fit(X_train, y_train)\n",
    "bnb_pred = BernNB.predict(X_test)"
   ]
  },
  {
   "cell_type": "code",
   "execution_count": 34,
   "id": "9a48ad68",
   "metadata": {},
   "outputs": [
    {
     "name": "stdout",
     "output_type": "stream",
     "text": [
      "[[1127  442]\n",
      " [ 224 1312]]\n"
     ]
    }
   ],
   "source": [
    "#Matriz de confusão\n",
    "print(confusion_matrix(y_test, bnb_pred))"
   ]
  },
  {
   "cell_type": "code",
   "execution_count": 35,
   "id": "479fba48",
   "metadata": {},
   "outputs": [
    {
     "name": "stdout",
     "output_type": "stream",
     "text": [
      "0.7855072463768116\n"
     ]
    }
   ],
   "source": [
    "#Acurácia\n",
    "print(accuracy_score(y_test, bnb_pred))"
   ]
  },
  {
   "cell_type": "code",
   "execution_count": 36,
   "id": "2f64ae25",
   "metadata": {},
   "outputs": [
    {
     "name": "stdout",
     "output_type": "stream",
     "text": [
      "0.7480045610034207\n"
     ]
    }
   ],
   "source": [
    "#precisão\n",
    "print(precision_score(y_test, bnb_pred))"
   ]
  },
  {
   "cell_type": "markdown",
   "id": "bbc71cc9",
   "metadata": {},
   "source": [
    "# MODELO Árvore de decisão"
   ]
  },
  {
   "cell_type": "code",
   "execution_count": 37,
   "id": "3f5b8db5",
   "metadata": {},
   "outputs": [],
   "source": [
    "from sklearn.tree import DecisionTreeClassifier"
   ]
  },
  {
   "cell_type": "code",
   "execution_count": 38,
   "id": "9c188ab3",
   "metadata": {},
   "outputs": [],
   "source": [
    "arvore = DecisionTreeClassifier(random_state=30)\n",
    "arvore.fit(X_train, y_train)\n",
    "arvore_pred = arvore.predict(X_test)"
   ]
  },
  {
   "cell_type": "code",
   "execution_count": 39,
   "id": "8c9ee220",
   "metadata": {},
   "outputs": [
    {
     "name": "stdout",
     "output_type": "stream",
     "text": [
      "[[1248  321]\n",
      " [ 292 1244]]\n"
     ]
    }
   ],
   "source": [
    "#Matriz de confusão\n",
    "print(confusion_matrix(y_test, arvore_pred))"
   ]
  },
  {
   "cell_type": "code",
   "execution_count": 40,
   "id": "09e6bf9e",
   "metadata": {},
   "outputs": [
    {
     "name": "stdout",
     "output_type": "stream",
     "text": [
      "0.8025764895330113\n"
     ]
    }
   ],
   "source": [
    "#Acurácia\n",
    "print(accuracy_score(y_test, arvore_pred))"
   ]
  },
  {
   "cell_type": "code",
   "execution_count": 41,
   "id": "d3a89372",
   "metadata": {},
   "outputs": [
    {
     "name": "stdout",
     "output_type": "stream",
     "text": [
      "0.794888178913738\n"
     ]
    }
   ],
   "source": [
    "#precisão\n",
    "print(precision_score(y_test, arvore_pred))"
   ]
  },
  {
   "cell_type": "markdown",
   "id": "6a29eb6c",
   "metadata": {},
   "source": [
    "## MODELO ESCOLHIDO"
   ]
  },
  {
   "cell_type": "markdown",
   "id": "f397f1e7",
   "metadata": {},
   "source": [
    "Baseado na acurácia e precisão o modelo **KNN** foi o que teve a melhor perfomece com **81,8%** de Acurácia e **79,5%** de Precisão!"
   ]
  }
 ],
 "metadata": {
  "kernelspec": {
   "display_name": "Python 3",
   "language": "python",
   "name": "python3"
  },
  "language_info": {
   "codemirror_mode": {
    "name": "ipython",
    "version": 3
   },
   "file_extension": ".py",
   "mimetype": "text/x-python",
   "name": "python",
   "nbconvert_exporter": "python",
   "pygments_lexer": "ipython3",
   "version": "3.8.8"
  }
 },
 "nbformat": 4,
 "nbformat_minor": 5
}
